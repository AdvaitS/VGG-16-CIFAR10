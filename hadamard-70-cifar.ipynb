{
 "cells": [
  {
   "cell_type": "code",
   "execution_count": 21,
   "metadata": {},
   "outputs": [],
   "source": [
    "import numpy as np\n",
    "import matplotlib.pyplot as plt\n",
    "from sympy import fwht, ifwht\n",
    "from scipy.linalg import hadamard, inv\n",
    "def unpickle(file):\n",
    "    import pickle\n",
    "    with open(file, 'rb') as fo:\n",
    "        dict = pickle.load(fo, encoding='bytes')\n",
    "    return dict"
   ]
  },
  {
   "cell_type": "code",
   "execution_count": 2,
   "metadata": {},
   "outputs": [],
   "source": [
    "data_batch_1 = unpickle(\"/Users/advaitshukla/Downloads/cifar-10-batches-py/data_batch_1\")\n",
    "data_batch_2 = unpickle(\"/Users/advaitshukla/Downloads/cifar-10-batches-py/data_batch_2\")\n",
    "data_batch_3 = unpickle(\"/Users/advaitshukla/Downloads/cifar-10-batches-py/data_batch_3\")\n",
    "data_batch_4 = unpickle(\"/Users/advaitshukla/Downloads/cifar-10-batches-py/data_batch_4\")\n",
    "data_batch_5 = unpickle(\"/Users/advaitshukla/Downloads/cifar-10-batches-py/data_batch_5\")\n",
    "test_batch   = unpickle(\"/Users/advaitshukla/Downloads/cifar-10-batches-py/test_batch\")"
   ]
  },
  {
   "cell_type": "code",
   "execution_count": 3,
   "metadata": {},
   "outputs": [],
   "source": [
    "batch1_imgs      = np.array(data_batch_1[b'data'], dtype=int)\n",
    "batch1_labels    = np.array(data_batch_1[b'labels'], dtype=int)\n",
    "batch2_imgs      = np.array(data_batch_2[b'data'], dtype=int)\n",
    "batch2_labels    = np.array(data_batch_2[b'labels'], dtype=int)\n",
    "batch3_imgs      = np.array(data_batch_3[b'data'], dtype=int)\n",
    "batch3_labels    = np.array(data_batch_3[b'labels'], dtype=int)\n",
    "batch4_imgs      = np.array(data_batch_4[b'data'], dtype=int)\n",
    "batch4_labels    = np.array(data_batch_4[b'labels'], dtype=int)\n",
    "batch5_imgs      = np.array(data_batch_5[b'data'], dtype=int)\n",
    "batch5_labels    = np.array(data_batch_5[b'labels'], dtype=int)\n",
    "testbatch_imgs   = np.array(test_batch[b'data'], dtype=int)\n",
    "testbatch_labels = np.array(test_batch[b'labels'], dtype=int)"
   ]
  },
  {
   "cell_type": "code",
   "execution_count": 4,
   "metadata": {},
   "outputs": [],
   "source": [
    "all_imgs   = np.concatenate((batch1_imgs,batch2_imgs,batch3_imgs,batch4_imgs,batch5_imgs,testbatch_imgs), dtype=int)\n",
    "all_labels = np.concatenate((batch1_labels,batch2_labels,batch3_labels,batch4_labels,batch5_labels,testbatch_labels))"
   ]
  },
  {
   "cell_type": "code",
   "execution_count": 5,
   "metadata": {},
   "outputs": [
    {
     "name": "stdout",
     "output_type": "stream",
     "text": [
      "(60000, 3072) (60000, 32, 32, 3)\n"
     ]
    }
   ],
   "source": [
    "all_imgs_rgb = all_imgs.reshape(len(all_imgs),3,32,32).transpose(0,2,3,1)\n",
    "print(all_imgs.shape, all_imgs_rgb.shape)"
   ]
  },
  {
   "cell_type": "markdown",
   "metadata": {},
   "source": []
  },
  {
   "cell_type": "code",
   "execution_count": 7,
   "metadata": {},
   "outputs": [
    {
     "ename": "ValueError",
     "evalue": "operands could not be broadcast together with shapes (3072,) (32,32) ",
     "output_type": "error",
     "traceback": [
      "\u001b[0;31m---------------------------------------------------------------------------\u001b[0m",
      "\u001b[0;31mValueError\u001b[0m                                Traceback (most recent call last)",
      "\u001b[0;32m/var/folders/l9/170hpj9s75q3tqc3tfnd809r0000gn/T/ipykernel_30090/2671643635.py\u001b[0m in \u001b[0;36m<module>\u001b[0;34m\u001b[0m\n\u001b[0;32m----> 1\u001b[0;31m \u001b[0mall_imgs\u001b[0m\u001b[0;34m[\u001b[0m\u001b[0;36m0\u001b[0m\u001b[0;34m]\u001b[0m \u001b[0;34m*\u001b[0m \u001b[0mhadamard\u001b[0m\u001b[0;34m(\u001b[0m\u001b[0;36m32\u001b[0m\u001b[0;34m)\u001b[0m\u001b[0;34m\u001b[0m\u001b[0;34m\u001b[0m\u001b[0m\n\u001b[0m",
      "\u001b[0;31mValueError\u001b[0m: operands could not be broadcast together with shapes (3072,) (32,32) "
     ]
    }
   ],
   "source": [
    "all_imgs[0] * hadamard(32)"
   ]
  },
  {
   "cell_type": "code",
   "execution_count": 13,
   "metadata": {},
   "outputs": [
    {
     "name": "stdout",
     "output_type": "stream",
     "text": [
      "(32, 32) (32, 32, 3)\n"
     ]
    },
    {
     "data": {
      "text/plain": [
       "array([[[ 1,  1,  1],\n",
       "        [ 1,  1,  1],\n",
       "        [ 1,  1,  1],\n",
       "        ...,\n",
       "        [ 1,  1,  1],\n",
       "        [ 1,  1,  1],\n",
       "        [ 1,  1,  1]],\n",
       "\n",
       "       [[ 1,  1,  1],\n",
       "        [-1, -1, -1],\n",
       "        [ 1,  1,  1],\n",
       "        ...,\n",
       "        [-1, -1, -1],\n",
       "        [ 1,  1,  1],\n",
       "        [-1, -1, -1]],\n",
       "\n",
       "       [[ 1,  1,  1],\n",
       "        [ 1,  1,  1],\n",
       "        [-1, -1, -1],\n",
       "        ...,\n",
       "        [ 1,  1,  1],\n",
       "        [-1, -1, -1],\n",
       "        [-1, -1, -1]],\n",
       "\n",
       "       ...,\n",
       "\n",
       "       [[ 1,  1,  1],\n",
       "        [-1, -1, -1],\n",
       "        [ 1,  1,  1],\n",
       "        ...,\n",
       "        [ 1,  1,  1],\n",
       "        [-1, -1, -1],\n",
       "        [ 1,  1,  1]],\n",
       "\n",
       "       [[ 1,  1,  1],\n",
       "        [ 1,  1,  1],\n",
       "        [-1, -1, -1],\n",
       "        ...,\n",
       "        [-1, -1, -1],\n",
       "        [ 1,  1,  1],\n",
       "        [ 1,  1,  1]],\n",
       "\n",
       "       [[ 1,  1,  1],\n",
       "        [-1, -1, -1],\n",
       "        [-1, -1, -1],\n",
       "        ...,\n",
       "        [ 1,  1,  1],\n",
       "        [ 1,  1,  1],\n",
       "        [-1, -1, -1]]])"
      ]
     },
     "execution_count": 13,
     "metadata": {},
     "output_type": "execute_result"
    }
   ],
   "source": [
    "h = np.array(hadamard(32),dtype=int)\n",
    "k = np.empty((32,32,3), dtype=int)\n",
    "print(h.shape,k.shape)\n",
    "for i in range(h.shape[0]):\n",
    "    for j in range(h.shape[1]):\n",
    "        k[i][j] = (np.multiply(h[i][j] , [1,1,1]))\n",
    "h\n",
    "k"
   ]
  },
  {
   "cell_type": "code",
   "execution_count": 14,
   "metadata": {},
   "outputs": [
    {
     "data": {
      "text/plain": [
       "(32, 32, 3)"
      ]
     },
     "execution_count": 14,
     "metadata": {},
     "output_type": "execute_result"
    }
   ],
   "source": [
    "h = np.array(hadamard(32), dtype=int)\n",
    "g = np.empty((32,32,3), dtype=int)\n",
    "for i in range(h.shape[0]):\n",
    "    for j in range(h.shape[1]):\n",
    "        g[i][j] = np.array(h[i][j], dtype=int) * np.array([1,1,1], dtype=int)\n",
    "\n",
    "g.shape\n",
    "\n"
   ]
  },
  {
   "cell_type": "code",
   "execution_count": 28,
   "metadata": {},
   "outputs": [
    {
     "data": {
      "text/plain": [
       "(60000, 32, 32, 3)"
      ]
     },
     "execution_count": 28,
     "metadata": {},
     "output_type": "execute_result"
    }
   ],
   "source": [
    "h_transformed = np.empty(all_imgs_rgb.shape,dtype=int)\n",
    "i=0\n",
    "for img in all_imgs_rgb:\n",
    "    h_transformed[i] = fwht(img)\n",
    "    i+=1\n",
    "h_transformed.shape\n"
   ]
  },
  {
   "cell_type": "code",
   "execution_count": 25,
   "metadata": {},
   "outputs": [
    {
     "data": {
      "text/plain": [
       "(32, 32, 3)"
      ]
     },
     "execution_count": 25,
     "metadata": {},
     "output_type": "execute_result"
    }
   ],
   "source": [
    "s = all_imgs_rgb[9] * k\n",
    "s.shape"
   ]
  },
  {
   "cell_type": "code",
   "execution_count": 26,
   "metadata": {},
   "outputs": [
    {
     "name": "stderr",
     "output_type": "stream",
     "text": [
      "Clipping input data to the valid range for imshow with RGB data ([0..1] for floats or [0..255] for integers).\n"
     ]
    },
    {
     "name": "stdout",
     "output_type": "stream",
     "text": [
      "(32, 32, 3) (32, 32, 3)\n"
     ]
    },
    {
     "data": {
      "text/plain": [
       "<matplotlib.image.AxesImage at 0x7f9050606dc0>"
      ]
     },
     "execution_count": 26,
     "metadata": {},
     "output_type": "execute_result"
    },
    {
     "data": {
      "image/png": "[encoded data removed]",
      "text/plain": [
       "<Figure size 432x288 with 1 Axes>"
      ]
     },
     "metadata": {
      "needs_background": "light"
     },
     "output_type": "display_data"
    }
   ],
   "source": [
    "print(k.shape,g.shape)\n",
    "plt.imshow(s)"
   ]
  },
  {
   "cell_type": "code",
   "execution_count": 27,
   "metadata": {},
   "outputs": [
    {
     "ename": "NameError",
     "evalue": "name 'h_transformed' is not defined",
     "output_type": "error",
     "traceback": [
      "\u001b[0;31m---------------------------------------------------------------------------\u001b[0m",
      "\u001b[0;31mNameError\u001b[0m                                 Traceback (most recent call last)",
      "\u001b[0;32m/var/folders/l9/170hpj9s75q3tqc3tfnd809r0000gn/T/ipykernel_30090/1877747508.py\u001b[0m in \u001b[0;36m<module>\u001b[0;34m\u001b[0m\n\u001b[1;32m      1\u001b[0m \u001b[0mplt\u001b[0m\u001b[0;34m.\u001b[0m\u001b[0mimshow\u001b[0m\u001b[0;34m(\u001b[0m\u001b[0mall_imgs_rgb\u001b[0m\u001b[0;34m[\u001b[0m\u001b[0;36m9\u001b[0m\u001b[0;34m]\u001b[0m\u001b[0;34m)\u001b[0m\u001b[0;34m\u001b[0m\u001b[0;34m\u001b[0m\u001b[0m\n\u001b[0;32m----> 2\u001b[0;31m \u001b[0mplt\u001b[0m\u001b[0;34m.\u001b[0m\u001b[0mimshow\u001b[0m\u001b[0;34m(\u001b[0m\u001b[0mh_transformed\u001b[0m\u001b[0;34m[\u001b[0m\u001b[0;36m9\u001b[0m\u001b[0;34m]\u001b[0m\u001b[0;34m)\u001b[0m\u001b[0;34m\u001b[0m\u001b[0;34m\u001b[0m\u001b[0m\n\u001b[0m",
      "\u001b[0;31mNameError\u001b[0m: name 'h_transformed' is not defined"
     ]
    },
    {
     "data": {
      "image/png": "[encoded data removed]",
      "text/plain": [
       "<Figure size 432x288 with 1 Axes>"
      ]
     },
     "metadata": {
      "needs_background": "light"
     },
     "output_type": "display_data"
    }
   ],
   "source": [
    "plt.imshow(all_imgs_rgb[9])\n",
    "plt.imshow(h_transformed[9])"
   ]
  },
  {
   "cell_type": "code",
   "execution_count": 22,
   "metadata": {},
   "outputs": [],
   "source": [
    "i = inv(h)"
   ]
  },
  {
   "cell_type": "code",
   "execution_count": 24,
   "metadata": {},
   "outputs": [
    {
     "data": {
      "text/plain": [
       "<matplotlib.image.AxesImage at 0x7f9060b10a60>"
      ]
     },
     "execution_count": 24,
     "metadata": {},
     "output_type": "execute_result"
    },
    {
     "data": {
      "image/png": "[encoded data removed]",
      "text/plain": [
       "<Figure size 432x288 with 1 Axes>"
      ]
     },
     "metadata": {
      "needs_background": "light"
     },
     "output_type": "display_data"
    }
   ],
   "source": [
    "l = s * g\n",
    "plt.imshow(l)"
   ]
  },
  {
   "cell_type": "code",
   "execution_count": 38,
   "metadata": {},
   "outputs": [
    {
     "data": {
      "text/plain": [
       "(60000, 32, 32, 3)"
      ]
     },
     "execution_count": 38,
     "metadata": {},
     "output_type": "execute_result"
    }
   ],
   "source": [
    "h_transformed.shape"
   ]
  },
  {
   "cell_type": "code",
   "execution_count": 35,
   "metadata": {},
   "outputs": [
    {
     "data": {
      "text/plain": [
       "(32, 32, 3)"
      ]
     },
     "execution_count": 35,
     "metadata": {},
     "output_type": "execute_result"
    }
   ],
   "source": [
    "arr = []\n",
    "c = 0\n",
    "for i in range(32):\n",
    "    for j in range(96):\n",
    "        if j<96-c:\n",
    "            arr.append(1)\n",
    "        else:\n",
    "            arr.append(0)\n",
    "    if i%3==0:\n",
    "        c=c+3\n",
    "arr = np.array(arr)\n",
    "arr = arr.reshape(32,32,3)\n",
    "arr.shape"
   ]
  },
  {
   "cell_type": "code",
   "execution_count": 37,
   "metadata": {},
   "outputs": [
    {
     "name": "stderr",
     "output_type": "stream",
     "text": [
      "Clipping input data to the valid range for imshow with RGB data ([0..1] for floats or [0..255] for integers).\n"
     ]
    },
    {
     "data": {
      "text/plain": [
       "<matplotlib.image.AxesImage at 0x7f903089bf10>"
      ]
     },
     "execution_count": 37,
     "metadata": {},
     "output_type": "execute_result"
    },
    {
     "data": {
      "image/png": "[encoded data removed]",
      "text/plain": [
       "<Figure size 432x288 with 1 Axes>"
      ]
     },
     "metadata": {
      "needs_background": "light"
     },
     "output_type": "display_data"
    }
   ],
   "source": [
    "half_coeff = np.multiply(h_transformed[0],arr)\n",
    "plt.imshow(half_coeff)"
   ]
  },
  {
   "cell_type": "code",
   "execution_count": 46,
   "metadata": {},
   "outputs": [
    {
     "data": {
      "text/plain": [
       "array([[[[4336, 3354, 2234],\n",
       "         [4086, 2814, 1309],\n",
       "         [4235, 3006, 1476],\n",
       "         ...,\n",
       "         [4386, 3432, 1751],\n",
       "         [3998, 2997, 1522],\n",
       "         [3806, 2905, 1658]],\n",
       "\n",
       "        [[ -46,  -36,  -24],\n",
       "         [ -58,  -42,  -37],\n",
       "         [ -67,  -50,  -40],\n",
       "         ...,\n",
       "         [  -4,   -4,   15],\n",
       "         [  -8,   -5,    6],\n",
       "         [   0,    0,    0]],\n",
       "\n",
       "        [[-100,  -56,  -42],\n",
       "         [-144,  -94,  -57],\n",
       "         [-137,  -86,  -14],\n",
       "         ...,\n",
       "         [ -74,  -62,   -9],\n",
       "         [-148, -131,  -66],\n",
       "         [   0,    0,    0]],\n",
       "\n",
       "        ...,\n",
       "\n",
       "        [[   0,    6,   70],\n",
       "         [  34,   64,  169],\n",
       "         [  21,   52,  154],\n",
       "         ...,\n",
       "         [   0,    0,    0],\n",
       "         [   0,    0,    0],\n",
       "         [   0,    0,    0]],\n",
       "\n",
       "        [[ -42,  -34,  132],\n",
       "         [-120,  -52,  209],\n",
       "         [-149,  -68,  168],\n",
       "         ...,\n",
       "         [   0,    0,    0],\n",
       "         [   0,    0,    0],\n",
       "         [   0,    0,    0]],\n",
       "\n",
       "        [[  56,   44,   54],\n",
       "         [  92,   88,   63],\n",
       "         [ 117,  124,   40],\n",
       "         ...,\n",
       "         [   0,    0,    0],\n",
       "         [   0,    0,    0],\n",
       "         [   0,    0,    0]]],\n",
       "\n",
       "\n",
       "       [[[4480, 4513, 4721],\n",
       "         [4344, 4585, 5010],\n",
       "         [3741, 4017, 4400],\n",
       "         ...,\n",
       "         [3675, 3464, 2943],\n",
       "         [3586, 3429, 2897],\n",
       "         [3710, 3595, 3179]],\n",
       "\n",
       "        [[ -20,   -1,   13],\n",
       "         [ -52,  -35,  -28],\n",
       "         [ -35,  -33,  -32],\n",
       "         ...,\n",
       "         [ -27,  -16,  -37],\n",
       "         [  16,   25,   11],\n",
       "         [   0,    0,    0]],\n",
       "\n",
       "        [[ -38,   19,   51],\n",
       "         [  12,   45,   70],\n",
       "         [ 163,  179,  186],\n",
       "         ...,\n",
       "         [-205, -190, -227],\n",
       "         [-304, -295, -329],\n",
       "         [   0,    0,    0]],\n",
       "\n",
       "        ...,\n",
       "\n",
       "        [[-190, -173, -167],\n",
       "         [-244, -217, -200],\n",
       "         [-183, -153, -138],\n",
       "         ...,\n",
       "         [   0,    0,    0],\n",
       "         [   0,    0,    0],\n",
       "         [   0,    0,    0]],\n",
       "\n",
       "        [[-244, -221, -197],\n",
       "         [-136,  -81,  -46],\n",
       "         [ -29,   27,   68],\n",
       "         ...,\n",
       "         [   0,    0,    0],\n",
       "         [   0,    0,    0],\n",
       "         [   0,    0,    0]],\n",
       "\n",
       "        [[  28,    5,  -49],\n",
       "         [   4,  -13,  -60],\n",
       "         [   7,   21,    4],\n",
       "         ...,\n",
       "         [   0,    0,    0],\n",
       "         [   0,    0,    0],\n",
       "         [   0,    0,    0]]],\n",
       "\n",
       "\n",
       "       [[[5536, 5696, 5394],\n",
       "         [5380, 5523, 5269],\n",
       "         [5473, 5538, 5354],\n",
       "         ...,\n",
       "         [4374, 4621, 4469],\n",
       "         [4279, 4525, 4371],\n",
       "         [4269, 4515, 4361]],\n",
       "\n",
       "        [[  88,   82,   86],\n",
       "         [  66,   61,   69],\n",
       "         [  83,   80,   86],\n",
       "         ...,\n",
       "         [  94,   93,   91],\n",
       "         [  91,   85,   87],\n",
       "         [   0,    0,    0]],\n",
       "\n",
       "        [[ 188,  186,  178],\n",
       "         [ 202,  205,  203],\n",
       "         [ 237,  228,  222],\n",
       "         ...,\n",
       "         [ 198,  201,  225],\n",
       "         [ 239,  237,  261],\n",
       "         [   0,    0,    0]],\n",
       "\n",
       "        ...,\n",
       "\n",
       "        [[  92,   94,   92],\n",
       "         [  86,   95,   81],\n",
       "         [  27,   28,   16],\n",
       "         ...,\n",
       "         [   0,    0,    0],\n",
       "         [   0,    0,    0],\n",
       "         [   0,    0,    0]],\n",
       "\n",
       "        [[ 244,  262,  236],\n",
       "         [ 238,  275,  227],\n",
       "         [  97,   96,   56],\n",
       "         ...,\n",
       "         [   0,    0,    0],\n",
       "         [   0,    0,    0],\n",
       "         [   0,    0,    0]],\n",
       "\n",
       "        [[  56,   44,   52],\n",
       "         [  16,    9,   23],\n",
       "         [  -5,    2,    4],\n",
       "         ...,\n",
       "         [   0,    0,    0],\n",
       "         [   0,    0,    0],\n",
       "         [   0,    0,    0]]],\n",
       "\n",
       "\n",
       "       ...,\n",
       "\n",
       "\n",
       "       [[[ 960,  752,  451],\n",
       "         [ 962,  759,  455],\n",
       "         [ 963,  771,  457],\n",
       "         ...,\n",
       "         [ 698,  612, 1124],\n",
       "         [ 688,  605, 1111],\n",
       "         [ 663,  590, 1066]],\n",
       "\n",
       "        [[  -4,   -2,    3],\n",
       "         [  -4,   -3,    1],\n",
       "         [ -11,   -5,   -3],\n",
       "         ...,\n",
       "         [  -8,   -8,  -18],\n",
       "         [  -2,   -1,  -15],\n",
       "         [   0,    0,    0]],\n",
       "\n",
       "        [[  -8,   -6,    3],\n",
       "         [ -12,   -9,    5],\n",
       "         [ -19,  -11,    3],\n",
       "         ...,\n",
       "         [ -18,  -18,  -54],\n",
       "         [  -8,   -7,  -35],\n",
       "         [   0,    0,    0]],\n",
       "\n",
       "        ...,\n",
       "\n",
       "        [[   0,    0,   -3],\n",
       "         [  -4,   -3,   -5],\n",
       "         [  -3,   -1,   -1],\n",
       "         ...,\n",
       "         [   0,    0,    0],\n",
       "         [   0,    0,    0],\n",
       "         [   0,    0,    0]],\n",
       "\n",
       "        [[   4,    4,   -3],\n",
       "         [   0,   -5,   -5],\n",
       "         [  -3,    1,    1],\n",
       "         ...,\n",
       "         [   0,    0,    0],\n",
       "         [   0,    0,    0],\n",
       "         [   0,    0,    0]],\n",
       "\n",
       "        [[   0,    2,   -3],\n",
       "         [  -2,   -3,   -3],\n",
       "         [  -1,   -3,    1],\n",
       "         ...,\n",
       "         [   0,    0,    0],\n",
       "         [   0,    0,    0],\n",
       "         [   0,    0,    0]]],\n",
       "\n",
       "\n",
       "       [[[2110, 2569, 1554],\n",
       "         [2202, 2718, 1704],\n",
       "         [2484, 2969, 2049],\n",
       "         ...,\n",
       "         [2651, 3218, 2418],\n",
       "         [2488, 3185, 2335],\n",
       "         [2263, 3048, 2193]],\n",
       "\n",
       "        [[ -14,  -23,  -18],\n",
       "         [ -26,  -28,  -20],\n",
       "         [ -20,  -21,  -11],\n",
       "         ...,\n",
       "         [ -21,  -24,  -10],\n",
       "         [ -32,  -33,  -17],\n",
       "         [   0,    0,    0]],\n",
       "\n",
       "        [[  12,  -13,  -30],\n",
       "         [ -30,  -32,  -52],\n",
       "         [-122, -123, -123],\n",
       "         ...,\n",
       "         [  61,   28,   66],\n",
       "         [  64,   37,   65],\n",
       "         [   0,    0,    0]],\n",
       "\n",
       "        ...,\n",
       "\n",
       "        [[-118, -111,  -36],\n",
       "         [ -84,  -64,    8],\n",
       "         [ -38,  -15,   47],\n",
       "         ...,\n",
       "         [   0,    0,    0],\n",
       "         [   0,    0,    0],\n",
       "         [   0,    0,    0]],\n",
       "\n",
       "        [[-212, -173,    4],\n",
       "         [ -72,  -16,  156],\n",
       "         [  28,   79,  223],\n",
       "         ...,\n",
       "         [   0,    0,    0],\n",
       "         [   0,    0,    0],\n",
       "         [   0,    0,    0]],\n",
       "\n",
       "        [[-108,  -85,  -52],\n",
       "         [-140, -102,  -36],\n",
       "         [-108,  -63,   27],\n",
       "         ...,\n",
       "         [   0,    0,    0],\n",
       "         [   0,    0,    0],\n",
       "         [   0,    0,    0]]],\n",
       "\n",
       "\n",
       "       [[[3424, 3547, 2809],\n",
       "         [3583, 3695, 2990],\n",
       "         [3538, 3653, 2965],\n",
       "         ...,\n",
       "         [3644, 3745, 2950],\n",
       "         [3225, 3326, 2803],\n",
       "         [2733, 2810, 2562]],\n",
       "\n",
       "        [[ -50,  -49,  -39],\n",
       "         [ -25,  -25,   -6],\n",
       "         [ -20,  -19,   -1],\n",
       "         ...,\n",
       "         [  28,   33,   50],\n",
       "         [  45,   52,   59],\n",
       "         [   0,    0,    0]],\n",
       "\n",
       "        [[ -92,  -93,  -57],\n",
       "         [ -59,  -57,  -14],\n",
       "         [ -26,  -19,   17],\n",
       "         ...,\n",
       "         [  88,   77,   46],\n",
       "         [ 167,  172,  145],\n",
       "         [   0,    0,    0]],\n",
       "\n",
       "        ...,\n",
       "\n",
       "        [[  66,   67,   57],\n",
       "         [ 107,  103,   92],\n",
       "         [ 108,  107,   97],\n",
       "         ...,\n",
       "         [   0,    0,    0],\n",
       "         [   0,    0,    0],\n",
       "         [   0,    0,    0]],\n",
       "\n",
       "        [[  60,   59,   39],\n",
       "         [  85,   83,   64],\n",
       "         [ 134,  127,   91],\n",
       "         ...,\n",
       "         [   0,    0,    0],\n",
       "         [   0,    0,    0],\n",
       "         [   0,    0,    0]],\n",
       "\n",
       "        [[-182, -173, -157],\n",
       "         [-119, -117, -100],\n",
       "         [ -60,  -65,  -47],\n",
       "         ...,\n",
       "         [   0,    0,    0],\n",
       "         [   0,    0,    0],\n",
       "         [   0,    0,    0]]]])"
      ]
     },
     "execution_count": 46,
     "metadata": {},
     "output_type": "execute_result"
    }
   ],
   "source": [
    "reduced_h_img = np.empty(h_transformed.shape, dtype=int)\n",
    "p=0\n",
    "for i in h_transformed:\n",
    "    reduced_h_img[p] = np.multiply(i,arr)\n",
    "    p=p+1\n",
    "reduced_h_img"
   ]
  },
  {
   "cell_type": "code",
   "execution_count": 49,
   "metadata": {},
   "outputs": [
    {
     "name": "stderr",
     "output_type": "stream",
     "text": [
      "Clipping input data to the valid range for imshow with RGB data ([0..1] for floats or [0..255] for integers).\n"
     ]
    },
    {
     "data": {
      "text/plain": [
       "<matplotlib.image.AxesImage at 0x7f905079d370>"
      ]
     },
     "execution_count": 49,
     "metadata": {},
     "output_type": "execute_result"
    },
    {
     "data": {
      "image/png": "[encoded data removed]",
      "text/plain": [
       "<Figure size 432x288 with 1 Axes>"
      ]
     },
     "metadata": {
      "needs_background": "light"
     },
     "output_type": "display_data"
    }
   ],
   "source": [
    "plt.imshow(reduced_h_img[6])"
   ]
  },
  {
   "cell_type": "code",
   "execution_count": 53,
   "metadata": {},
   "outputs": [
    {
     "data": {
      "text/plain": [
       "(60000, 32, 32, 3)"
      ]
     },
     "execution_count": 53,
     "metadata": {},
     "output_type": "execute_result"
    }
   ],
   "source": [
    "inv_h_transformed = np.empty(reduced_h_img.shape,dtype=int)\n",
    "q=0\n",
    "for img in reduced_h_img:\n",
    "    inv_h_transformed[q] = ifwht(img)\n",
    "    q+=1\n",
    "inv_h_transformed.shape\n"
   ]
  },
  {
   "cell_type": "code",
   "execution_count": 55,
   "metadata": {},
   "outputs": [
    {
     "data": {
      "text/plain": [
       "<matplotlib.image.AxesImage at 0x7f90217eb430>"
      ]
     },
     "execution_count": 55,
     "metadata": {},
     "output_type": "execute_result"
    },
    {
     "data": {
      "image/png": "[encoded data removed]",
      "text/plain": [
       "<Figure size 432x288 with 1 Axes>"
      ]
     },
     "metadata": {
      "needs_background": "light"
     },
     "output_type": "display_data"
    }
   ],
   "source": [
    "plt.imshow(inv_h_transformed[200])"
   ]
  },
  {
   "cell_type": "code",
   "execution_count": 60,
   "metadata": {},
   "outputs": [],
   "source": [
    "data = {}\n",
    "data['transformed-images'] = inv_h_transformed\n",
    "data['labels'] = all_labels"
   ]
  },
  {
   "cell_type": "code",
   "execution_count": 69,
   "metadata": {},
   "outputs": [],
   "source": [
    "f = open('transformed-data.txt',\"w\")\n",
    "f.write(str(data))\n",
    "f.close()"
   ]
  },
  {
   "cell_type": "code",
   "execution_count": 74,
   "metadata": {},
   "outputs": [],
   "source": [
    "import pickle\n",
    "f = open('data-transformed.pkl','wb')\n",
    "pickle.dump(data,f)\n",
    "f.close()"
   ]
  },
  {
   "cell_type": "code",
   "execution_count": 4,
   "metadata": {},
   "outputs": [
    {
     "name": "stdout",
     "output_type": "stream",
     "text": [
      "<class 'dict'>\n"
     ]
    }
   ],
   "source": [
    "import pickle\n",
    "with open('data-transformed.pkl', 'rb') as fo:\n",
    "    dict = pickle.load(fo)\n",
    "print(type(dict))\n",
    "\n"
   ]
  },
  {
   "cell_type": "code",
   "execution_count": null,
   "metadata": {},
   "outputs": [],
   "source": []
  }
 ],
 "metadata": {
  "interpreter": {
   "hash": "40d3a090f54c6569ab1632332b64b2c03c39dcf918b08424e98f38b5ae0af88f"
  },
  "kernelspec": {
   "display_name": "Python 3.9.7 ('base')",
   "language": "python",
   "name": "python3"
  },
  "language_info": {
   "codemirror_mode": {
    "name": "ipython",
    "version": 3
   },
   "file_extension": ".py",
   "mimetype": "text/x-python",
   "name": "python",
   "nbconvert_exporter": "python",
   "pygments_lexer": "ipython3",
   "version": "3.9.10"
  },
  "orig_nbformat": 4
 },
 "nbformat": 4,
 "nbformat_minor": 2
}
