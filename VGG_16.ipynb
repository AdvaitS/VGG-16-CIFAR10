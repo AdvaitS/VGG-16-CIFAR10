{
  "cells": [
    {
      "cell_type": "code",
      "execution_count": null,
      "metadata": {
        "id": "g7zQItrFK5BG"
      },
      "outputs": [],
      "source": [
        "import tensorflow as tf\n",
        "from tensorflow import keras\n",
        "from tensorflow.keras import layers\n",
        "from tensorflow.keras.optimizers import SGD"
      ]
    },
    {
      "cell_type": "code",
      "execution_count": null,
      "metadata": {
        "colab": {
          "base_uri": "https://localhost:8080/"
        },
        "id": "8MocO4ByvcKo",
        "outputId": "e7b24778-19a6-41f2-f9eb-6f652fe6bc4a"
      },
      "outputs": [
        {
          "output_type": "stream",
          "name": "stdout",
          "text": [
            "Mounted at /content/drive\n"
          ]
        }
      ],
      "source": [
        "from google.colab import drive\n",
        "drive.mount('/content/drive')"
      ]
    },
    {
      "cell_type": "code",
      "execution_count": null,
      "metadata": {
        "id": "7ceJTlYY1lvw"
      },
      "outputs": [],
      "source": [
        "import sys\n",
        "from matplotlib import pyplot\n",
        "from tensorflow.keras.datasets import cifar10\n",
        "from tensorflow.keras.utils import to_categorical\n",
        "from tensorflow.keras.models import Sequential\n",
        "from tensorflow.keras.layers import Conv2D\n",
        "from tensorflow.keras.layers import MaxPooling2D\n",
        "from tensorflow.keras.layers import Dense\n",
        "from tensorflow.keras.layers import Flatten\n",
        "from tensorflow.keras.optimizers import SGD"
      ]
    },
    {
      "cell_type": "code",
      "execution_count": null,
      "metadata": {
        "id": "5adeNd_QLFLL"
      },
      "outputs": [],
      "source": [
        "\n",
        "def VGG16Model():\n",
        "  model = keras.Sequential()\n",
        "  model.add(keras.Input(shape=(32,32,3)))  # 32*32 RGB images\n",
        "  model.add(layers.Conv2D(64, 3, strides=1, padding= \"same\", activation=\"relu\"))\n",
        "  model.add(layers.Conv2D(64, 3, strides=1, padding=\"same\",activation=\"relu\"))\n",
        "  model.add(layers.MaxPooling2D(2))\n",
        "\n",
        "  model.add(layers.Conv2D(128, 3, strides=1, padding= \"same\", activation=\"relu\"))\n",
        "  model.add(layers.Conv2D(128, 3, strides=1, padding=\"same\",activation=\"relu\"))\n",
        "  model.add(layers.MaxPooling2D(2))\n",
        "\n",
        "  model.add(layers.Conv2D(256, 3, strides=1, padding= \"same\", activation=\"relu\"))\n",
        "  model.add(layers.Conv2D(256, 3, strides=1, padding=\"same\",activation=\"relu\"))\n",
        "  model.add(layers.MaxPooling2D(2))\n",
        "\n",
        "  model.add(layers.Conv2D(512, 3, strides=1, padding= \"same\", activation=\"relu\"))\n",
        "  model.add(layers.Conv2D(512, 3, strides=1, padding= \"same\", activation=\"relu\"))\n",
        "  model.add(layers.Conv2D(512, 3, strides=1, padding=\"same\",activation=\"relu\"))\n",
        "  model.add(layers.MaxPooling2D(2))\n",
        "\n",
        "  model.add(layers.Conv2D(512, 3, strides=1, padding= \"same\", activation=\"relu\"))\n",
        "  model.add(layers.Conv2D(512, 3, strides=1, padding= \"same\", activation=\"relu\"))\n",
        "  model.add(layers.Conv2D(512, 3, strides=1, padding=\"same\",activation=\"relu\"))\n",
        "  model.add(layers.MaxPooling2D(2))\n",
        "\n",
        "  model.add(layers.Flatten())\n",
        "  model.add(layers.Dense(4096,activation='relu'))\n",
        "  model.add(layers.Dense(4096,activation='relu'))\n",
        "  model.add(layers.Dense(10,activation='softmax'))\n",
        "\n",
        "  # compile model\n",
        "  opt = SGD(learning_rate=0.001, momentum=0.9)\n",
        "  model.compile(optimizer=opt, loss='categorical_crossentropy', metrics=['accuracy'])\n",
        "\t\n",
        "# Can you guess what th#e current output shape is at this point? Probably not.\n",
        "# Let's just print it:\n",
        "  model.summary()\n",
        "\n",
        "  return model"
      ]
    },
    {
      "cell_type": "code",
      "execution_count": null,
      "metadata": {
        "id": "A3MPyWHf23CM"
      },
      "outputs": [],
      "source": [
        "##load train and test dataset\n",
        "def load_dataset():\n",
        "\t# load dataset\n",
        "\t(trainX, trainY), (testX, testY) = cifar10.load_data()\n",
        "\t# one hot encode target values\n",
        "\ttrainY = to_categorical(trainY)\n",
        "\ttestY = to_categorical(testY)\n",
        "\treturn trainX, trainY, testX, testY"
      ]
    },
    {
      "cell_type": "code",
      "execution_count": null,
      "metadata": {
        "id": "RSxJAkuEvUUg"
      },
      "outputs": [],
      "source": [
        "import numpy as np\n",
        "import pickle\n",
        "def load_experiment13_dataset():\n",
        "\t# load dataset\n",
        "\tfo = open('drive/MyDrive/data-transformed.pkl', 'rb')\n",
        "\th_data = pickle.load(fo)\n",
        "\t(trainX, trainY), (testX, testY) = cifar10.load_data()\n",
        "\t# one hot encode target values\n",
        "\ttrainY = to_categorical(trainY)\n",
        "\ttestY = to_categorical(testY)\n",
        "\th_imgs = h_data['transformed-images'][10000:40000]\n",
        "\th_labels = h_data['labels'][10000:40000]\n",
        "\ttrainX_new = np.concatenate((trainX[:30000],h_imgs))\n",
        "\th_labels = to_categorical(h_labels)\n",
        "\ttrainY_new = np.concatenate((trainY[:30000],h_labels))\n",
        "\treturn trainX_new, trainY_new, testX[:10000], testY[:10000]"
      ]
    },
    {
      "cell_type": "code",
      "execution_count": null,
      "metadata": {
        "id": "78_pexEX3K61"
      },
      "outputs": [],
      "source": [
        "# scale pixels\n",
        "def prep_pixels(train, test):\n",
        "\t# convert from integers to floats\n",
        "\ttrain_norm = train.astype('float32')\n",
        "\ttest_norm = test.astype('float32')\n",
        "\t# normalize to range 0-1\n",
        "\ttrain_norm = train_norm / 255.0\n",
        "\ttest_norm = test_norm / 255.0\n",
        "\t# return normalized images\n",
        "\treturn train_norm, test_norm"
      ]
    },
    {
      "cell_type": "code",
      "execution_count": null,
      "metadata": {
        "id": "b9ZqPclz3gJw"
      },
      "outputs": [],
      "source": [
        "# plot diagnostic learning curves\n",
        "def summarize_diagnostics(history):\n",
        "\t# plot loss\n",
        "\tpyplot.subplot(211)\n",
        "\tpyplot.title('Cross Entropy Loss')\n",
        "\tpyplot.plot(history.history['loss'], color='blue', label='train')\n",
        "\tpyplot.plot(history.history['val_loss'], color='orange', label='test')\n",
        "\t# plot accuracy\n",
        "\tpyplot.subplot(212)\n",
        "\tpyplot.title('Classification Accuracy')\n",
        "\tpyplot.plot(history.history['accuracy'], color='blue', label='train')\n",
        "\tpyplot.plot(history.history['val_accuracy'], color='orange', label='test')\n",
        "\t# save plot to file\n",
        "\tfilename = sys.argv[0].split('/')[-1]\n",
        "\tpyplot.savefig(filename + 'exp13_plot.png')\n",
        "\tpyplot.savefig('drive/MyDrive/Experiments/Experiment-13.png')\n",
        "\tpyplot.close()"
      ]
    },
    {
      "cell_type": "code",
      "execution_count": null,
      "metadata": {
        "colab": {
          "base_uri": "https://localhost:8080/"
        },
        "id": "BtBeKnLk3iff",
        "outputId": "be964bc5-ede6-4cab-a5d8-887d3be93c9f"
      },
      "outputs": [
        {
          "output_type": "stream",
          "name": "stdout",
          "text": [
            "Model: \"sequential_3\"\n",
            "_________________________________________________________________\n",
            " Layer (type)                Output Shape              Param #   \n",
            "=================================================================\n",
            " conv2d_36 (Conv2D)          (None, 32, 32, 64)        1792      \n",
            "                                                                 \n",
            " conv2d_37 (Conv2D)          (None, 32, 32, 64)        36928     \n",
            "                                                                 \n",
            " max_pooling2d_15 (MaxPoolin  (None, 16, 16, 64)       0         \n",
            " g2D)                                                            \n",
            "                                                                 \n",
            " conv2d_38 (Conv2D)          (None, 16, 16, 128)       73856     \n",
            "                                                                 \n",
            " conv2d_39 (Conv2D)          (None, 16, 16, 128)       147584    \n",
            "                                                                 \n",
            " max_pooling2d_16 (MaxPoolin  (None, 8, 8, 128)        0         \n",
            " g2D)                                                            \n",
            "                                                                 \n",
            " conv2d_40 (Conv2D)          (None, 8, 8, 256)         295168    \n",
            "                                                                 \n",
            " conv2d_41 (Conv2D)          (None, 8, 8, 256)         590080    \n",
            "                                                                 \n",
            " max_pooling2d_17 (MaxPoolin  (None, 4, 4, 256)        0         \n",
            " g2D)                                                            \n",
            "                                                                 \n",
            " conv2d_42 (Conv2D)          (None, 4, 4, 512)         1180160   \n",
            "                                                                 \n",
            " conv2d_43 (Conv2D)          (None, 4, 4, 512)         2359808   \n",
            "                                                                 \n",
            " conv2d_44 (Conv2D)          (None, 4, 4, 512)         2359808   \n",
            "                                                                 \n",
            " max_pooling2d_18 (MaxPoolin  (None, 2, 2, 512)        0         \n",
            " g2D)                                                            \n",
            "                                                                 \n",
            " conv2d_45 (Conv2D)          (None, 2, 2, 512)         2359808   \n",
            "                                                                 \n",
            " conv2d_46 (Conv2D)          (None, 2, 2, 512)         2359808   \n",
            "                                                                 \n",
            " conv2d_47 (Conv2D)          (None, 2, 2, 512)         2359808   \n",
            "                                                                 \n",
            " max_pooling2d_19 (MaxPoolin  (None, 1, 1, 512)        0         \n",
            " g2D)                                                            \n",
            "                                                                 \n",
            " flatten_3 (Flatten)         (None, 512)               0         \n",
            "                                                                 \n",
            " dense_9 (Dense)             (None, 4096)              2101248   \n",
            "                                                                 \n",
            " dense_10 (Dense)            (None, 4096)              16781312  \n",
            "                                                                 \n",
            " dense_11 (Dense)            (None, 10)                40970     \n",
            "                                                                 \n",
            "=================================================================\n",
            "Total params: 33,048,138\n",
            "Trainable params: 33,048,138\n",
            "Non-trainable params: 0\n",
            "_________________________________________________________________\n",
            "> 74.140\n"
          ]
        }
      ],
      "source": [
        "# run the test harness for evaluating a model\n",
        "def run_test_harness():\n",
        "\t# load dataset\n",
        "\ttrainX, trainY, testX, testY = load_experiment13_dataset()\n",
        "\t# prepare pixel data\n",
        "\ttrainX, testX = prep_pixels(trainX, testX)\n",
        "\t# define model\n",
        "\tmodel = VGG16Model()\n",
        "\t# fit model\n",
        "\thistory = model.fit(trainX, trainY, epochs=100, batch_size=64, validation_data=(testX, testY), verbose=0)\n",
        "\t# evaluate model\n",
        "\t_, acc = model.evaluate(testX, testY, verbose=0)\n",
        "\tprint('> %.3f' % (acc * 100.0))\n",
        "\t# learning curves\n",
        "\tsummarize_diagnostics(history)\n",
        "\treturn history\n",
        "# entry point, run the test harness\n",
        "\n",
        "m = run_test_harness()"
      ]
    },
    {
      "cell_type": "code",
      "source": [],
      "metadata": {
        "id": "Lzs5vvWDOqYr"
      },
      "execution_count": null,
      "outputs": []
    }
  ],
  "metadata": {
    "accelerator": "GPU",
    "colab": {
      "collapsed_sections": [],
      "name": "Experiments-VGG-16.ipynb",
      "provenance": []
    },
    "kernelspec": {
      "display_name": "Python 3",
      "name": "python3"
    },
    "language_info": {
      "codemirror_mode": {
        "name": "ipython",
        "version": 3
      },
      "file_extension": ".py",
      "mimetype": "text/x-python",
      "name": "python",
      "nbconvert_exporter": "python",
      "pygments_lexer": "ipython3",
      "version": "3.9.12"
    }
  },
  "nbformat": 4,
  "nbformat_minor": 0
}